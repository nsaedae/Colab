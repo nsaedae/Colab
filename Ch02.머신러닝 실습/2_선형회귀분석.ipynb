{
  "nbformat": 4,
  "nbformat_minor": 0,
  "metadata": {
    "colab": {
      "name": "2.선형회귀분석.ipynb",
      "provenance": [],
      "collapsed_sections": [],
      "authorship_tag": "ABX9TyOZVxpMKPar/rAIvGsMbblO",
      "include_colab_link": true
    },
    "kernelspec": {
      "name": "python3",
      "display_name": "Python 3"
    },
    "language_info": {
      "name": "python"
    }
  },
  "cells": [
    {
      "cell_type": "markdown",
      "metadata": {
        "id": "view-in-github",
        "colab_type": "text"
      },
      "source": [
        "<a href=\"https://colab.research.google.com/github/nsaedae/Colab/blob/master/Ch02.%EB%A8%B8%EC%8B%A0%EB%9F%AC%EB%8B%9D%20%EC%8B%A4%EC%8A%B5/2_%EC%84%A0%ED%98%95%ED%9A%8C%EA%B7%80%EB%B6%84%EC%84%9D.ipynb\" target=\"_parent\"><img src=\"https://colab.research.google.com/assets/colab-badge.svg\" alt=\"Open In Colab\"/></a>"
      ]
    },
    {
      "cell_type": "code",
      "execution_count": 1,
      "metadata": {
        "id": "3h89wlqegEn2"
      },
      "outputs": [],
      "source": [
        "\"\"\"\n",
        "날짜 : 2022/05/02\n",
        "이름 : 김철학\n",
        "내용 : 선형회귀분석 실습\n",
        "\"\"\"\n",
        "from scipy import stats\n",
        "from sklearn.linear_model import LinearRegression"
      ]
    },
    {
      "cell_type": "code",
      "source": [
        "#학습 데이터\n",
        "x_data = [170, 155, 150, 175, 165]\n",
        "y_data = [65, 50, 45, 70, 55]\n",
        "\n",
        "#학습하기(기울기, 절편 확인)\n",
        "slope, intercept, r, p, std = stats.linregress(x_data, y_data)\n",
        "print('기울기 :', slope)\n",
        "print('절편 :', intercept)"
      ],
      "metadata": {
        "colab": {
          "base_uri": "https://localhost:8080/"
        },
        "id": "ImxIjZ3AgY8a",
        "outputId": "ca669601-e06b-4eb7-a8c3-71c1de58c0d3"
      },
      "execution_count": 2,
      "outputs": [
        {
          "output_type": "stream",
          "name": "stdout",
          "text": [
            "기울기 : 0.9767441860465116\n",
            "절편 : -102.20930232558138\n"
          ]
        }
      ]
    },
    {
      "cell_type": "code",
      "source": [
        "#학습모델 정의\n",
        "def model(x):\n",
        "  y = 0.9767441860465116 * x - 102.20930232558138\n",
        "  return y"
      ],
      "metadata": {
        "id": "VFlI4fKfg6lf"
      },
      "execution_count": 3,
      "outputs": []
    },
    {
      "cell_type": "code",
      "source": [
        "#테스트하기\n",
        "test_data = [160, 172, 178, 154, 186]\n",
        "\n",
        "for i in test_data:\n",
        "  y = model(i)\n",
        "  print(y, end=' ')"
      ],
      "metadata": {
        "colab": {
          "base_uri": "https://localhost:8080/"
        },
        "id": "2jDK92l_hf3X",
        "outputId": "e51ed978-58cf-4d96-d090-134ceb821999"
      },
      "execution_count": 4,
      "outputs": [
        {
          "output_type": "stream",
          "name": "stdout",
          "text": [
            "54.06976744186048 65.79069767441862 71.6511627906977 48.209302325581405 79.46511627906978 "
          ]
        }
      ]
    },
    {
      "cell_type": "code",
      "source": [
        "#선형회귀 알고리즘을 이용한 머신러닝\n",
        "\n",
        "#학습 데이터, 라벨 준비\n",
        "train_data = [[170], [155], [150], [175], [165]]\n",
        "train_label = [65, 50, 45, 70, 55]"
      ],
      "metadata": {
        "id": "9jscx7U4iCId"
      },
      "execution_count": 5,
      "outputs": []
    },
    {
      "cell_type": "code",
      "source": [
        "#학습하기\n",
        "model = LinearRegression()\n",
        "model.fit(train_data, train_label)"
      ],
      "metadata": {
        "colab": {
          "base_uri": "https://localhost:8080/"
        },
        "id": "5y3QHDSZi4IT",
        "outputId": "0f5af508-babf-4c4f-8217-275e916b296c"
      },
      "execution_count": 7,
      "outputs": [
        {
          "output_type": "execute_result",
          "data": {
            "text/plain": [
              "LinearRegression()"
            ]
          },
          "metadata": {},
          "execution_count": 7
        }
      ]
    },
    {
      "cell_type": "code",
      "source": [
        "#테스트하기\n",
        "test_data = [[160], [172], [178], [154], [186]]\n",
        "result = model.predict(test_data)\n",
        "result"
      ],
      "metadata": {
        "colab": {
          "base_uri": "https://localhost:8080/"
        },
        "id": "gYzsW95DjQWl",
        "outputId": "b581e976-d79d-408c-e652-116cae88023c"
      },
      "execution_count": 8,
      "outputs": [
        {
          "output_type": "execute_result",
          "data": {
            "text/plain": [
              "array([54.06976744, 65.79069767, 71.65116279, 48.20930233, 79.46511628])"
            ]
          },
          "metadata": {},
          "execution_count": 8
        }
      ]
    }
  ]
}