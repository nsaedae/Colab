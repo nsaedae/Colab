{
  "nbformat": 4,
  "nbformat_minor": 0,
  "metadata": {
    "colab": {
      "name": "4.딥러닝 CNN 모델 테스트.ipynb",
      "provenance": [],
      "collapsed_sections": [],
      "mount_file_id": "1-cWUWIEqh6360AN0BFOgd9eW3pFDb5D2",
      "authorship_tag": "ABX9TyN/cgUPomauR7LwXmEksmVA",
      "include_colab_link": true
    },
    "kernelspec": {
      "name": "python3",
      "display_name": "Python 3"
    },
    "language_info": {
      "name": "python"
    }
  },
  "cells": [
    {
      "cell_type": "markdown",
      "metadata": {
        "id": "view-in-github",
        "colab_type": "text"
      },
      "source": [
        "<a href=\"https://colab.research.google.com/github/nsaedae/Colab/blob/master/Ch03.%EB%94%A5%EB%9F%AC%EB%8B%9D%20%EC%8B%A4%EC%8A%B5/4_%EB%94%A5%EB%9F%AC%EB%8B%9D_CNN_%EB%AA%A8%EB%8D%B8_%ED%85%8C%EC%8A%A4%ED%8A%B8.ipynb\" target=\"_parent\"><img src=\"https://colab.research.google.com/assets/colab-badge.svg\" alt=\"Open In Colab\"/></a>"
      ]
    },
    {
      "cell_type": "code",
      "execution_count": 31,
      "metadata": {
        "colab": {
          "base_uri": "https://localhost:8080/",
          "height": 35
        },
        "id": "_WviDE-67H6c",
        "outputId": "709df60e-2098-4af0-b6a7-f9a3b8a01716"
      },
      "outputs": [
        {
          "output_type": "execute_result",
          "data": {
            "text/plain": [
              "'2.8.0'"
            ],
            "application/vnd.google.colaboratory.intrinsic+json": {
              "type": "string"
            }
          },
          "metadata": {},
          "execution_count": 31
        }
      ],
      "source": [
        "\"\"\"\n",
        "날짜 : 2022/05/10\n",
        "이름 : 김철학\n",
        "내용 : 딥러닝 CNN 모델 테스트하기\n",
        "\"\"\"\n",
        "import matplotlib.pyplot as plt\n",
        "import numpy as np\n",
        "import tensorflow as tf\n",
        "from tensorflow.keras.datasets.cifar10 import load_data\n",
        "from tensorflow.keras.utils import to_categorical\n",
        "from tensorflow.keras.models import load_model\n",
        "from keras.preprocessing.image import load_img, img_to_array\n",
        "from PIL import Image\n",
        "tf.__version__"
      ]
    },
    {
      "cell_type": "code",
      "source": [
        "#데이터 불러오기\n",
        "(cifar_train_data, cifar_train_label), (cifar_test_data, cifar_test_label) = load_data()"
      ],
      "metadata": {
        "colab": {
          "base_uri": "https://localhost:8080/"
        },
        "id": "vBvffXft7YBm",
        "outputId": "6ed1fab6-0f05-4bc9-e879-6cebb50cb171"
      },
      "execution_count": 2,
      "outputs": [
        {
          "output_type": "stream",
          "name": "stdout",
          "text": [
            "Downloading data from https://www.cs.toronto.edu/~kriz/cifar-10-python.tar.gz\n",
            "170500096/170498071 [==============================] - 4s 0us/step\n",
            "170508288/170498071 [==============================] - 4s 0us/step\n"
          ]
        }
      ]
    },
    {
      "cell_type": "code",
      "source": [
        "#모델학습을 위한 데이터 전처리(정규화)\n",
        "cifar_train_data2 = cifar_train_data / 255\n",
        "cifar_test_data2 = cifar_test_data / 255"
      ],
      "metadata": {
        "id": "rMYd3Spx8S0m"
      },
      "execution_count": 3,
      "outputs": []
    },
    {
      "cell_type": "code",
      "source": [
        "#데이터 라벨을 범주형(one-hot encoding)으로 변환\n",
        "cifar_train_label2 = to_categorical(cifar_train_label)\n",
        "cifar_test_label2 = to_categorical(cifar_test_label)\n",
        "cifar_train_label2[1]"
      ],
      "metadata": {
        "colab": {
          "base_uri": "https://localhost:8080/"
        },
        "id": "h4iFyo5R8XRl",
        "outputId": "b4d90c42-1d9c-411f-fde7-7e19452deb16"
      },
      "execution_count": 4,
      "outputs": [
        {
          "output_type": "execute_result",
          "data": {
            "text/plain": [
              "array([0., 0., 0., 0., 0., 0., 0., 0., 0., 1.], dtype=float32)"
            ]
          },
          "metadata": {},
          "execution_count": 4
        }
      ]
    },
    {
      "cell_type": "code",
      "source": [
        "#외부 학습모델 불러오기\n",
        "model = load_model('/content/drive/MyDrive/파이썬 데이터 과학 실습/file/cifar_model.h5')\n",
        "model.summary()"
      ],
      "metadata": {
        "id": "tVXRpxsV8Yo2"
      },
      "execution_count": null,
      "outputs": []
    },
    {
      "cell_type": "code",
      "source": [
        "#모델 테스트\n",
        "result = model.evaluate(cifar_test_data2, cifar_test_label2)\n",
        "result"
      ],
      "metadata": {
        "colab": {
          "base_uri": "https://localhost:8080/"
        },
        "id": "ih2RzElL82aV",
        "outputId": "d3a14ee1-f1e4-4d41-c472-81cebc221b3b"
      },
      "execution_count": 8,
      "outputs": [
        {
          "output_type": "stream",
          "name": "stdout",
          "text": [
            "313/313 [==============================] - 14s 42ms/step - loss: 1.4942 - acc: 0.7577\n"
          ]
        },
        {
          "output_type": "execute_result",
          "data": {
            "text/plain": [
              "[1.4941719770431519, 0.7577000260353088]"
            ]
          },
          "metadata": {},
          "execution_count": 8
        }
      ]
    },
    {
      "cell_type": "code",
      "source": [
        "###############################################################\n",
        "#이미지 로드 함수 정의\n",
        "def load_image(filename):\n",
        "\t# load the image\n",
        "\timg = load_img(filename, target_size=(32, 32))\n",
        "\t# convert to array\n",
        "\timg = img_to_array(img)\n",
        "\t# reshape into a single sample with 3 channels\n",
        "\timg = img.reshape(1, 32, 32, 3)\n",
        "\t# prepare pixel data\n",
        "\timg = img.astype('float32')\n",
        "\timg = img / 255.0\n",
        "\treturn img"
      ],
      "metadata": {
        "id": "tqsJjV6R9ppF"
      },
      "execution_count": 32,
      "outputs": []
    },
    {
      "cell_type": "code",
      "source": [
        "img = load_image('/content/drive/MyDrive/파이썬 데이터 과학 실습/file/flog.jpg')\n",
        "img"
      ],
      "metadata": {
        "colab": {
          "base_uri": "https://localhost:8080/"
        },
        "id": "p-YIny06_j52",
        "outputId": "8f2f3092-2392-4405-c6cb-defedbf97053"
      },
      "execution_count": 33,
      "outputs": [
        {
          "output_type": "execute_result",
          "data": {
            "text/plain": [
              "array([[[[1.        , 1.        , 0.9843137 ],\n",
              "         [1.        , 1.        , 0.98039216],\n",
              "         [1.        , 1.        , 0.9647059 ],\n",
              "         ...,\n",
              "         [0.99607843, 1.        , 0.98039216],\n",
              "         [0.9882353 , 0.9882353 , 0.99607843],\n",
              "         [0.99607843, 0.99607843, 1.        ]],\n",
              "\n",
              "        [[1.        , 0.99607843, 1.        ],\n",
              "         [1.        , 0.99607843, 1.        ],\n",
              "         [1.        , 1.        , 0.9843137 ],\n",
              "         ...,\n",
              "         [0.99607843, 0.99215686, 0.972549  ],\n",
              "         [0.99607843, 0.99607843, 1.        ],\n",
              "         [0.9882353 , 1.        , 1.        ]],\n",
              "\n",
              "        [[1.        , 0.99215686, 1.        ],\n",
              "         [1.        , 0.99215686, 1.        ],\n",
              "         [1.        , 0.99607843, 1.        ],\n",
              "         ...,\n",
              "         [1.        , 0.99607843, 0.9843137 ],\n",
              "         [1.        , 0.99607843, 1.        ],\n",
              "         [0.96862745, 0.9882353 , 1.        ]],\n",
              "\n",
              "        ...,\n",
              "\n",
              "        [[1.        , 0.99215686, 1.        ],\n",
              "         [0.99215686, 0.98039216, 1.        ],\n",
              "         [1.        , 0.99215686, 1.        ],\n",
              "         ...,\n",
              "         [0.972549  , 0.9882353 , 1.        ],\n",
              "         [1.        , 0.99215686, 1.        ],\n",
              "         [1.        , 0.9843137 , 1.        ]],\n",
              "\n",
              "        [[0.99607843, 1.        , 1.        ],\n",
              "         [0.99215686, 0.9882353 , 1.        ],\n",
              "         [1.        , 0.99607843, 1.        ],\n",
              "         ...,\n",
              "         [1.        , 1.        , 0.98039216],\n",
              "         [0.99607843, 1.        , 1.        ],\n",
              "         [0.972549  , 0.9843137 , 1.        ]],\n",
              "\n",
              "        [[0.9843137 , 1.        , 0.9764706 ],\n",
              "         [1.        , 1.        , 0.9843137 ],\n",
              "         [0.99215686, 0.9882353 , 0.972549  ],\n",
              "         ...,\n",
              "         [1.        , 0.99215686, 0.9372549 ],\n",
              "         [0.972549  , 1.        , 0.99607843],\n",
              "         [0.95686275, 1.        , 1.        ]]]], dtype=float32)"
            ]
          },
          "metadata": {},
          "execution_count": 33
        }
      ]
    },
    {
      "cell_type": "code",
      "source": [
        "#이미지 모델 테스트\n",
        "result = model.predict(img)\n",
        "result.round()"
      ],
      "metadata": {
        "colab": {
          "base_uri": "https://localhost:8080/"
        },
        "id": "lbipUuRf9pmd",
        "outputId": "35c684d8-1b07-4fb6-facb-ba7d5a750a03"
      },
      "execution_count": 36,
      "outputs": [
        {
          "output_type": "execute_result",
          "data": {
            "text/plain": [
              "array([[0., 0., 0., 0., 0., 0., 1., 0., 0., 0.]], dtype=float32)"
            ]
          },
          "metadata": {},
          "execution_count": 36
        }
      ]
    },
    {
      "cell_type": "code",
      "source": [
        ""
      ],
      "metadata": {
        "id": "XYBakINX9pjd"
      },
      "execution_count": null,
      "outputs": []
    }
  ]
}