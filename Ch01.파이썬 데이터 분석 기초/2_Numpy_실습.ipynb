{
  "nbformat": 4,
  "nbformat_minor": 0,
  "metadata": {
    "colab": {
      "name": "2.Numpy 실습.ipynb",
      "provenance": [],
      "collapsed_sections": [],
      "authorship_tag": "ABX9TyOp76X7kS/MqwzXmwvIAVJ3",
      "include_colab_link": true
    },
    "kernelspec": {
      "name": "python3",
      "display_name": "Python 3"
    },
    "language_info": {
      "name": "python"
    }
  },
  "cells": [
    {
      "cell_type": "markdown",
      "metadata": {
        "id": "view-in-github",
        "colab_type": "text"
      },
      "source": [
        "<a href=\"https://colab.research.google.com/github/nsaedae/Colab/blob/master/Ch01.%ED%8C%8C%EC%9D%B4%EC%8D%AC%20%EB%8D%B0%EC%9D%B4%ED%84%B0%20%EB%B6%84%EC%84%9D%20%EA%B8%B0%EC%B4%88/2_Numpy_%EC%8B%A4%EC%8A%B5.ipynb\" target=\"_parent\"><img src=\"https://colab.research.google.com/assets/colab-badge.svg\" alt=\"Open In Colab\"/></a>"
      ]
    },
    {
      "cell_type": "code",
      "execution_count": null,
      "metadata": {
        "id": "9pe7N2uhWBEQ"
      },
      "outputs": [],
      "source": [
        "\"\"\"\n",
        "날짜 : 2022/04/25\n",
        "이름 : 김철학\n",
        "내용 : 파이썬 Numpy 패키지 실습\n",
        "\n",
        "Numpy 라이브러리\n",
        " - 고성능 수치계산을 위한 파이썬 라이브러리\n",
        " - 파이썬 기본 리스트 보다 더 크고 빠른 연산을 위한 리스트를 제공\n",
        " - 행렬이나 대규모 다차원 배열 처리를 지원\n",
        "\"\"\"\n",
        "import numpy as np"
      ]
    },
    {
      "cell_type": "code",
      "source": [
        "# 벡터(Numpy 자료구조)\n",
        "v1 = np.array([1, 2, 3, 4, 5])\n",
        "print(v1)\n",
        "\n",
        "v2 = np.arange(10)\n",
        "print(v2)\n",
        "\n",
        "v3 = np.arange(100)\n",
        "print(v3)"
      ],
      "metadata": {
        "colab": {
          "base_uri": "https://localhost:8080/"
        },
        "id": "MkrX-AkgW1xE",
        "outputId": "e8404c62-f7e6-4778-8321-34990b64127d"
      },
      "execution_count": null,
      "outputs": [
        {
          "output_type": "stream",
          "name": "stdout",
          "text": [
            "[1 2 3 4 5]\n",
            "[0 1 2 3 4 5 6 7 8 9]\n",
            "[ 0  1  2  3  4  5  6  7  8  9 10 11 12 13 14 15 16 17 18 19 20 21 22 23\n",
            " 24 25 26 27 28 29 30 31 32 33 34 35 36 37 38 39 40 41 42 43 44 45 46 47\n",
            " 48 49 50 51 52 53 54 55 56 57 58 59 60 61 62 63 64 65 66 67 68 69 70 71\n",
            " 72 73 74 75 76 77 78 79 80 81 82 83 84 85 86 87 88 89 90 91 92 93 94 95\n",
            " 96 97 98 99]\n"
          ]
        }
      ]
    },
    {
      "cell_type": "code",
      "source": [
        "#0 ~ 1 사이 임의의 실수 100개\n",
        "rand1 = np.random.rand(100)\n",
        "rand1"
      ],
      "metadata": {
        "id": "c9jAGiX0crSn"
      },
      "execution_count": null,
      "outputs": []
    },
    {
      "cell_type": "code",
      "source": [
        "#표준 정규분포를 따르는 실수 100개\n",
        "rand2 = np.random.randn(100)\n",
        "rand2"
      ],
      "metadata": {
        "id": "x5_IlBi7crQH"
      },
      "execution_count": null,
      "outputs": []
    },
    {
      "cell_type": "code",
      "source": [
        "#행렬(Numpy 자료구조)\n",
        "m1 = np.array([[1, 2], [3, 4]])\n",
        "print(m1)\n",
        "\n",
        "m2 = np.array([[1, 2, 3], [4, 5, 6], [7, 8, 9]])\n",
        "print(m2)\n",
        "\n",
        "m3 = np.zeros([2, 3])\n",
        "print(m3)"
      ],
      "metadata": {
        "id": "-tbLvNZ7crNW"
      },
      "execution_count": null,
      "outputs": []
    },
    {
      "cell_type": "code",
      "source": [
        "#단위행렬\n",
        "e1 = np.identity(2)\n",
        "print(e1)\n",
        "\n",
        "e2 = np.identity(3)\n",
        "print(e2)"
      ],
      "metadata": {
        "id": "hjuv2qdAcrK_"
      },
      "execution_count": null,
      "outputs": []
    },
    {
      "cell_type": "code",
      "source": [
        "#역행렬\n",
        "im1 = np.linalg.inv(m1)\n",
        "print(im1)\n",
        "\n",
        "result = m1.dot(im1)\n",
        "print(result.round())"
      ],
      "metadata": {
        "colab": {
          "base_uri": "https://localhost:8080/"
        },
        "id": "ui6dnsRicrIX",
        "outputId": "c128d3d9-f4cc-4426-d08c-7f0ff318b771"
      },
      "execution_count": 16,
      "outputs": [
        {
          "output_type": "stream",
          "name": "stdout",
          "text": [
            "[[-2.   1. ]\n",
            " [ 1.5 -0.5]]\n",
            "[[1. 0.]\n",
            " [0. 1.]]\n"
          ]
        }
      ]
    },
    {
      "cell_type": "code",
      "source": [
        "#행렬 인덱싱\n",
        "mat = np.array([[1, 2, 3, 4], [5, 6, 7, 8], [9, 10, 11, 12]])\n",
        "print(mat)\n",
        "\n",
        "print('r1 :', mat[0, 0])\n",
        "print('r2 :', mat[0, :])\n",
        "print('r3 :', mat[:, 0])\n",
        "\n",
        "print('r4 :', mat[0:2, 0:2])\n",
        "print('r5 :', mat[:, 0:2])\n",
        "print('r6 :', mat[:, 2:4])\n",
        "print('r7 :', mat[1:3, 1:3])"
      ],
      "metadata": {
        "colab": {
          "base_uri": "https://localhost:8080/"
        },
        "id": "y8WrCIvpcrFX",
        "outputId": "00878f70-478e-45ed-8909-ca9063ead452"
      },
      "execution_count": 20,
      "outputs": [
        {
          "output_type": "stream",
          "name": "stdout",
          "text": [
            "[[ 1  2  3  4]\n",
            " [ 5  6  7  8]\n",
            " [ 9 10 11 12]]\n",
            "r1 : 1\n",
            "r2 : [1 2 3 4]\n",
            "r3 : [1 5 9]\n",
            "r4 : [[1 2]\n",
            " [5 6]]\n",
            "r5 : [[ 1  2]\n",
            " [ 5  6]\n",
            " [ 9 10]]\n",
            "r6 : [[ 3  4]\n",
            " [ 7  8]\n",
            " [11 12]]\n",
            "r7 : [[ 6  7]\n",
            " [10 11]]\n"
          ]
        }
      ]
    }
  ]
}