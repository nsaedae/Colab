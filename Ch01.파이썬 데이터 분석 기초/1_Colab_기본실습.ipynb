{
  "nbformat": 4,
  "nbformat_minor": 0,
  "metadata": {
    "colab": {
      "name": "1.Colab 기본실습.ipynb",
      "provenance": [],
      "collapsed_sections": [],
      "authorship_tag": "ABX9TyMxJ7tMKhwuKCV/oKG54WvJ",
      "include_colab_link": true
    },
    "kernelspec": {
      "name": "python3",
      "display_name": "Python 3"
    },
    "language_info": {
      "name": "python"
    }
  },
  "cells": [
    {
      "cell_type": "markdown",
      "metadata": {
        "id": "view-in-github",
        "colab_type": "text"
      },
      "source": [
        "<a href=\"https://colab.research.google.com/github/nsaedae/Colab/blob/master/Ch01.%ED%8C%8C%EC%9D%B4%EC%8D%AC%20%EB%8D%B0%EC%9D%B4%ED%84%B0%20%EB%B6%84%EC%84%9D%20%EA%B8%B0%EC%B4%88/1_Colab_%EA%B8%B0%EB%B3%B8%EC%8B%A4%EC%8A%B5.ipynb\" target=\"_parent\"><img src=\"https://colab.research.google.com/assets/colab-badge.svg\" alt=\"Open In Colab\"/></a>"
      ]
    },
    {
      "cell_type": "code",
      "execution_count": null,
      "metadata": {
        "id": "TxLfzOCqXgbe"
      },
      "outputs": [],
      "source": [
        "\"\"\"\n",
        "날짜 : 2022/04/25\n",
        "이름 : 김철학\n",
        "내용 : 파이썬 데이터 과학 Colab 분석환경 실습\n",
        "\"\"\""
      ]
    },
    {
      "cell_type": "code",
      "source": [
        "#출력 테스트\n",
        "print('Hello World!')\n",
        "print(\"Hello Colab!\")"
      ],
      "metadata": {
        "id": "aRa2xVa4XkV1"
      },
      "execution_count": null,
      "outputs": []
    },
    {
      "cell_type": "code",
      "source": [
        "# 변수\n",
        "num1 = 1\n",
        "num2 = 2\n",
        "num3 = num1 + num2"
      ],
      "metadata": {
        "id": "Uhs6i1sxXkal"
      },
      "execution_count": null,
      "outputs": []
    },
    {
      "cell_type": "code",
      "source": [
        "# 조건문\n",
        "var1 = 1\n",
        "var2 = 2\n",
        "\n",
        "if var1 > var2:\n",
        "  print('var1은 var2보다 크다.')\n",
        "else:\n",
        "  print('var1은 var2보다 작다.')"
      ],
      "metadata": {
        "id": "IMxQ3lLpXkhN"
      },
      "execution_count": null,
      "outputs": []
    },
    {
      "cell_type": "code",
      "source": [
        "# 반복문\n",
        "for i in range(10):\n",
        "  print(i, end=', ')"
      ],
      "metadata": {
        "id": "SNOQquh3XknN"
      },
      "execution_count": null,
      "outputs": []
    },
    {
      "cell_type": "code",
      "source": [
        "# 함수\n",
        "def sum(arr):\n",
        "  tot = 0\n",
        "  for k in arr:\n",
        "    tot += k\n",
        "\n",
        "  return tot"
      ],
      "metadata": {
        "id": "hiEVxTuAXks9"
      },
      "execution_count": null,
      "outputs": []
    },
    {
      "cell_type": "code",
      "source": [
        "sum([1,2,3,4,5,6,7,8,9,10])"
      ],
      "metadata": {
        "id": "OUKV9uL3XtfN"
      },
      "execution_count": null,
      "outputs": []
    }
  ]
}